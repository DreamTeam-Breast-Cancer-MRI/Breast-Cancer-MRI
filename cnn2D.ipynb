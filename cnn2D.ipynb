{
 "cells": [
  {
   "cell_type": "code",
   "execution_count": null,
   "metadata": {
    "id": "CNWBiDQegA4L"
   },
   "outputs": [],
   "source": [
    "!unzip images.zip # colab unzip images"
   ]
  },
  {
   "cell_type": "code",
   "execution_count": null,
   "metadata": {},
   "outputs": [],
   "source": [
    "from models.models2D.cnn import CNN\n",
    "from datasets.Images2D import ImageDataset\n",
    "from utils.device_setter import device_setter"
   ]
  },
  {
   "cell_type": "code",
   "execution_count": null,
   "metadata": {},
   "outputs": [],
   "source": [
    "DEFAULT_IMAGE_SIZE = 512 # Images have different sizes, so we have to resize them to common size\n",
    "BATCH_SIZE = 64\n",
    "EPOCHS = 10\n",
    "TEST_SIZE = 0.25\n",
    "LR_RATE = 0.01"
   ]
  },
  {
   "cell_type": "code",
   "execution_count": null,
   "metadata": {},
   "outputs": [],
   "source": [
    "import os\n",
    "from dotenv import load_dotenv\n",
    "\n",
    "load_dotenv()\n",
    "\n",
    "IMAGE_DATA_PATH_POS = os.getenv('POS_PATH') if os.getenv('POS_PATH') is not None else \"./data/png_out/pos\"\n",
    "IMAGE_DATA_PATH_NEG = os.getenv('NEG_PATH') if os.getenv('NEG_PATH') is not None else \"./data/png_out/neg\""
   ]
  },
  {
   "cell_type": "code",
   "execution_count": null,
   "metadata": {},
   "outputs": [],
   "source": [
    "import torchvision.transforms as transforms\n",
    "\n",
    "transform = transforms.Compose([\n",
    "    transforms.Resize((DEFAULT_IMAGE_SIZE, DEFAULT_IMAGE_SIZE))\n",
    "])"
   ]
  },
  {
   "cell_type": "code",
   "execution_count": null,
   "metadata": {
    "id": "8CP59Q_OiISV"
   },
   "outputs": [],
   "source": [
    "dataset = ImageDataset(IMAGE_DATA_PATH_POS, IMAGE_DATA_PATH_NEG, transform)"
   ]
  },
  {
   "cell_type": "code",
   "execution_count": null,
   "metadata": {
    "colab": {
     "base_uri": "https://localhost:8080/",
     "height": 35
    },
    "id": "PidWaowiih1s",
    "outputId": "a59ec92e-66b4-4309-873d-e7ddaaf10ba8"
   },
   "outputs": [],
   "source": [
    "print(f\"Dataset len: {len(dataset)}\")\n",
    "print(f\"Positives: {len(dataset.images_positves)}, Negatives: {len(dataset.images_negatives)}, Negatives ratio: {len(dataset.images_negatives) / len(dataset) * 100}\")"
   ]
  },
  {
   "cell_type": "code",
   "execution_count": null,
   "metadata": {
    "id": "A03StHt2nDMs"
   },
   "outputs": [],
   "source": [
    "from sklearn.model_selection import train_test_split\n",
    "from torch.utils.data import Subset\n",
    "\n",
    "\n",
    "# labels are required here only for balancing dataset\n",
    "train_idx, val_idx, _, _ = train_test_split(\n",
    "    list(range(len(dataset))),\n",
    "    dataset.targets,\n",
    "    test_size=TEST_SIZE,\n",
    "    shuffle=True,\n",
    "    stratify=dataset.targets,\n",
    ")"
   ]
  },
  {
   "cell_type": "code",
   "execution_count": null,
   "metadata": {},
   "outputs": [],
   "source": [
    "datasets = {}\n",
    "datasets[\"train\"] = Subset(dataset, train_idx)\n",
    "datasets[\"val\"] = Subset(dataset, val_idx)"
   ]
  },
  {
   "cell_type": "code",
   "execution_count": null,
   "metadata": {
    "colab": {
     "base_uri": "https://localhost:8080/",
     "height": 35
    },
    "id": "MYATpLaAIOmj",
    "outputId": "fa48c873-dd1c-4b15-d967-c42de67281c1"
   },
   "outputs": [],
   "source": [
    "device = device_setter()\n",
    "device"
   ]
  },
  {
   "cell_type": "code",
   "execution_count": null,
   "metadata": {
    "id": "_W_cEKwpkdPJ"
   },
   "outputs": [],
   "source": [
    "from torch.utils.data import DataLoader\n",
    "\n",
    "train_dataloader = DataLoader(datasets[\"train\"], batch_size=BATCH_SIZE)\n",
    "test_dataloader = DataLoader(datasets[\"val\"], batch_size=BATCH_SIZE)"
   ]
  },
  {
   "cell_type": "code",
   "execution_count": null,
   "metadata": {
    "colab": {
     "base_uri": "https://localhost:8080/",
     "height": 489
    },
    "id": "9_eSqz3moZXl",
    "outputId": "75a3cd4a-f821-41c3-bf29-feb37e8f71ba"
   },
   "outputs": [],
   "source": [
    "import matplotlib.pyplot as plt\n",
    "\n",
    "train_features, train_labels = next(iter(train_dataloader))\n",
    "\n",
    "print(f\"Feature batch shape: {train_features.size()}\")\n",
    "print(f\"Labels batch shape: {train_labels.size()}\")\n",
    "\n",
    "img = train_features[0].squeeze()\n",
    "label = train_labels[0]\n",
    "\n",
    "plt.imshow(img, cmap=\"gray\")\n",
    "plt.show()\n",
    "\n",
    "print(f\"Label: {label}\")"
   ]
  },
  {
   "cell_type": "code",
   "execution_count": null,
   "metadata": {
    "id": "ly-SAIPtokQC"
   },
   "outputs": [],
   "source": [
    "model = CNN().to(device)"
   ]
  },
  {
   "cell_type": "code",
   "execution_count": null,
   "metadata": {
    "colab": {
     "base_uri": "https://localhost:8080/",
     "height": 1000
    },
    "id": "5t-urS0dHs9j",
    "outputId": "98b63969-c83a-43cb-c059-77646ee10e1a"
   },
   "outputs": [],
   "source": [
    "import torch.nn as nn\n",
    "import torch.optim as optim\n",
    "import torch\n",
    "\n",
    "optimizer = optim.Adam(model.parameters(), lr=LR_RATE)\n",
    "\n",
    "loss_criteria = nn.CrossEntropyLoss()\n",
    "for epoch in range(1, EPOCHS + 1):\n",
    "    model.train()\n",
    "    train_loss = 0\n",
    "    print(\"Epoch:\", epoch)\n",
    "    for batch_idx, (data, target) in enumerate(train_dataloader):\n",
    "        data, target = data.float().to(device), target.to(device)\n",
    "        optimizer.zero_grad()\n",
    "\n",
    "        output = model(data)\n",
    "        _, predicted = torch.max(output.data, 1)\n",
    "\n",
    "        loss = loss_criteria(output, target)\n",
    "\n",
    "        train_loss += loss.item()\n",
    "\n",
    "        loss.backward()\n",
    "        optimizer.step()\n",
    "\n",
    "        print(\n",
    "            f\"\\tTarget: {float(torch.sum(target) / len(target) * 100)}, Predict: {float(torch.sum(predicted) / len(target) * 100)} Training batch {batch_idx + 1} Loss: {loss.item():.6f}\"\n",
    "        )\n",
    "\n",
    "    avg_loss = train_loss / (batch_idx + 1)\n",
    "    print(\"Training set: Average loss: {:.6f}\".format(avg_loss))\n",
    "    print(\"-\" * 40)\n",
    "    model.eval()\n",
    "    test_loss = 0\n",
    "    correct = 0\n",
    "    with torch.no_grad():\n",
    "        batch_count = 0\n",
    "        for data, target in test_dataloader:\n",
    "            batch_count += 1\n",
    "            data, target = data.float().to(device), target.to(device)\n",
    "\n",
    "            output = model(data)\n",
    "\n",
    "            test_loss += loss_criteria(output, target).item()\n",
    "\n",
    "            _, predicted = torch.max(output.data, 1)\n",
    "            print(\n",
    "                f\"Target: {float(torch.sum(target) / len(target) * 100)} Predict: {float(torch.sum(predicted) / len(target) * 100)}\"\n",
    "            )\n",
    "\n",
    "            correct += torch.sum(target == predicted).item()\n",
    "\n",
    "    avg_loss = test_loss / batch_count\n",
    "    print(\n",
    "        \"Validation set: Average loss: {:.6f}, Accuracy: {}/{} ({:.0f}%)\\n\".format(\n",
    "            avg_loss,\n",
    "            correct,\n",
    "            len(test_dataloader.dataset),\n",
    "            100.0 * correct / len(test_dataloader.dataset),\n",
    "        )\n",
    "    )"
   ]
  }
 ],
 "metadata": {
  "accelerator": "GPU",
  "colab": {
   "gpuType": "T4",
   "provenance": []
  },
  "kernelspec": {
   "display_name": "venv",
   "language": "python",
   "name": "python3"
  },
  "language_info": {
   "codemirror_mode": {
    "name": "ipython",
    "version": 3
   },
   "file_extension": ".py",
   "mimetype": "text/x-python",
   "name": "python",
   "nbconvert_exporter": "python",
   "pygments_lexer": "ipython3",
   "version": "3.11.4"
  }
 },
 "nbformat": 4,
 "nbformat_minor": 0
}
