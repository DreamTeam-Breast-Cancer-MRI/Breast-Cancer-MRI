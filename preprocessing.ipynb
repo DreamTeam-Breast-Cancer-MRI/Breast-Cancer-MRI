{
 "cells": [
  {
   "cell_type": "markdown",
   "metadata": {},
   "source": [
    "https://sites.duke.edu/mazurowski/2022/07/13/breast-mri-cancer-detect-tutorial-part1/"
   ]
  },
  {
   "cell_type": "code",
   "execution_count": null,
   "metadata": {},
   "outputs": [],
   "source": [
    "import pandas as pd\n",
    "import numpy as np\n",
    "import os\n",
    "import pydicom\n",
    "from tqdm import tqdm\n",
    "from skimage.io import imsave"
   ]
  },
  {
   "cell_type": "code",
   "execution_count": null,
   "metadata": {},
   "outputs": [],
   "source": [
    "data_path = \"data/manifest-1731957528982\"\n",
    "boxes_path = \"data/Annotation_Boxes.xlsx\"\n",
    "mapping_path = \"data/Breast-Cancer-MRI-filepath_filename-mapping.xlsx\"\n",
    "target_png_dir = \"data/png_out\"\n",
    "if not os.path.exists(target_png_dir):\n",
    "    os.makedirs(target_png_dir)"
   ]
  },
  {
   "cell_type": "code",
   "execution_count": null,
   "metadata": {},
   "outputs": [],
   "source": [
    "boxes_df = pd.read_excel(boxes_path)\n",
    "display(boxes_df) # needs to be in .ipynb/IPython notebook to work"
   ]
  },
  {
   "cell_type": "code",
   "execution_count": null,
   "metadata": {},
   "outputs": [],
   "source": [
    "# only consider fat-satured \"pre\" exams\n",
    "mapping_df = pd.read_excel(mapping_path)\n",
    "mapping_df = mapping_df[mapping_df[\"original_path_and_filename\"].str.contains(\"pre\")]\n",
    "\n",
    "# remove entries from patients that we are not including (we only include patients 1 to 100)\n",
    "# using a regex pattern\n",
    "crossref_pattern = \"|\".join(\n",
    "    [\"DICOM_Images/Breast_MRI_{:03d}\".format(s) for s in list(range(1, 70))]\n",
    ")\n",
    "mapping_df = mapping_df[\n",
    "    mapping_df[\"original_path_and_filename\"].str.contains(crossref_pattern)\n",
    "]"
   ]
  },
  {
   "cell_type": "code",
   "execution_count": null,
   "metadata": {},
   "outputs": [],
   "source": [
    "def save_dcm_slice(dcm_fname, label, vol_idx):\n",
    "    # create a path to save the slice .png file in, according to the original DICOM filename and target label\n",
    "    png_path = dcm_fname.split(\"\\\\\")[-1].replace(\".dcm\", \"-{}.png\".format(vol_idx))\n",
    "    label_dir = \"pos\" if label == 1 else \"neg\"\n",
    "    png_path = os.path.join(target_png_dir, label_dir, png_path)\n",
    "\n",
    "    if not os.path.exists(os.path.join(target_png_dir, label_dir)):\n",
    "        os.makedirs(os.path.join(target_png_dir, label_dir))\n",
    "\n",
    "    if not os.path.exists(png_path):\n",
    "        # only make the png image if it doesn't already exist (if you're running this after the first time)\n",
    "\n",
    "        # load DICOM file with pydicom library\n",
    "        try:\n",
    "            dcm = pydicom.dcmread(dcm_fname)\n",
    "        except FileNotFoundError:\n",
    "            # fix possible errors in filename from list\n",
    "            dcm_fname_split = dcm_fname.split(\"\\\\\")\n",
    "            dcm_fname_end = dcm_fname_split[-1]\n",
    "            assert dcm_fname_end.split(\"-\")[1][0] == \"0\"\n",
    "\n",
    "            dcm_fname_end_split = dcm_fname_end.split(\"-\")\n",
    "            dcm_fname_end = \"-\".join(\n",
    "                [dcm_fname_end_split[0], dcm_fname_end_split[1][1:]]\n",
    "            )\n",
    "\n",
    "            dcm_fname_split[-1] = dcm_fname_end\n",
    "            dcm_fname = \"\\\\\".join(dcm_fname_split)\n",
    "            dcm = pydicom.dcmread(dcm_fname)\n",
    "\n",
    "        # convert DICOM into numerical numpy array of pixel intensity values\n",
    "        img = dcm.pixel_array\n",
    "\n",
    "        # convert uint16 datatype to float, scaled properly for uint8\n",
    "        img = img.astype(np.float64) * 255.0 / img.max()\n",
    "        # convert from float -> uint8\n",
    "        img = img.astype(np.uint8)\n",
    "        # invert image if necessary, according to DICOM metadata\n",
    "        img_type = dcm.PhotometricInterpretation\n",
    "        if img_type == \"MONOCHROME1\":\n",
    "            img = np.invert(img)\n",
    "\n",
    "        # save final .png\n",
    "        imsave(png_path, img)"
   ]
  },
  {
   "cell_type": "code",
   "execution_count": null,
   "metadata": {},
   "outputs": [],
   "source": [
    "# number of examples for each class\n",
    "N_class = 5200\n",
    "# counts of examples extracted from each class\n",
    "ct_negative = 0\n",
    "ct_positive = 0\n",
    "\n",
    "# initialize iteration index of each patient volume\n",
    "vol_idx = -1\n",
    "for row_idx, row in tqdm(mapping_df.iterrows(), total=N_class * 2):\n",
    "    # indices start at 1 here\n",
    "    new_vol_idx = int((row[\"original_path_and_filename\"].split(\"/\")[1]).split(\"_\")[-1])\n",
    "    slice_idx = int(\n",
    "        ((row[\"original_path_and_filename\"].split(\"/\")[-1]).split(\"_\")[-1]).replace(\n",
    "            \".dcm\", \"\"\n",
    "        )\n",
    "    )\n",
    "\n",
    "    # new volume: get tumor bounding box\n",
    "    if new_vol_idx != vol_idx:\n",
    "        box_row = boxes_df.iloc[[new_vol_idx - 1]]\n",
    "        start_slice = int(box_row[\"Start Slice\"].iloc[0])\n",
    "        end_slice = int(box_row[\"End Slice\"].iloc[0])\n",
    "        assert end_slice >= start_slice\n",
    "    vol_idx = new_vol_idx\n",
    "\n",
    "    # get DICOM filename\n",
    "    dcm_fname = str(row[\"classic_path\"]).replace(\"/\", \"\\\\\")\n",
    "\n",
    "    dcm_fname = os.path.join(data_path, dcm_fname)\n",
    "    # determine slice label:\n",
    "    # (1) if within 3D box, save as positive\n",
    "    if slice_idx >= start_slice and slice_idx < end_slice:\n",
    "        if ct_positive >= N_class:\n",
    "            continue\n",
    "        save_dcm_slice(dcm_fname, 1, vol_idx)\n",
    "        ct_positive += 1\n",
    "\n",
    "    # (2) if outside 3D box by >5 slices, save as negative\n",
    "    elif (slice_idx + 5) <= start_slice or (slice_idx - 5) > end_slice:\n",
    "        if ct_negative >= N_class:\n",
    "            continue\n",
    "        save_dcm_slice(dcm_fname, 0, vol_idx)\n",
    "        ct_negative += 1"
   ]
  },
  {
   "cell_type": "code",
   "execution_count": null,
   "metadata": {},
   "outputs": [],
   "source": [
    "from IPython.display import Image, display\n",
    "from random import choice\n",
    "\n",
    "positive_image_dir = os.path.join(target_png_dir, \"pos\")\n",
    "negative_image_filenames = os.listdir(positive_image_dir)\n",
    "sample_image_path = os.path.join(positive_image_dir, choice(negative_image_filenames))\n",
    "\n",
    "display(Image(filename=sample_image_path))"
   ]
  },
  {
   "cell_type": "code",
   "execution_count": null,
   "metadata": {},
   "outputs": [],
   "source": [
    "import shutil\n",
    "shutil.make_archive(\"images\", 'zip', r\".\\\\data\\\\png_out\")"
   ]
  }
 ],
 "metadata": {
  "kernelspec": {
   "display_name": "venv",
   "language": "python",
   "name": "python3"
  },
  "language_info": {
   "codemirror_mode": {
    "name": "ipython",
    "version": 3
   },
   "file_extension": ".py",
   "mimetype": "text/x-python",
   "name": "python",
   "nbconvert_exporter": "python",
   "pygments_lexer": "ipython3",
   "version": "3.11.4"
  }
 },
 "nbformat": 4,
 "nbformat_minor": 2
}
